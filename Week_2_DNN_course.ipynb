{
  "nbformat": 4,
  "nbformat_minor": 0,
  "metadata": {
    "colab": {
      "name": "Week 2 DNN course",
      "version": "0.3.2",
      "provenance": [],
      "collapsed_sections": [],
      "include_colab_link": true
    },
    "kernelspec": {
      "name": "python3",
      "display_name": "Python 3"
    }
  },
  "cells": [
    {
      "cell_type": "markdown",
      "metadata": {
        "id": "view-in-github",
        "colab_type": "text"
      },
      "source": [
        "<a href=\"https://colab.research.google.com/github/DrAlexSanz/Data-Week-1-DNN/blob/master/Week_2_DNN_course.ipynb\" target=\"_parent\"><img src=\"https://colab.research.google.com/assets/colab-badge.svg\" alt=\"Open In Colab\"/></a>"
      ]
    },
    {
      "cell_type": "code",
      "metadata": {
        "id": "I0vIO8GoXHSv",
        "colab_type": "code",
        "outputId": "14fa60d6-d716-4e2c-f8ed-a082c070433d",
        "colab": {
          "base_uri": "https://localhost:8080/",
          "height": 34
        }
      },
      "source": [
        "import time\n",
        "import numpy as np\n",
        "import h5py\n",
        "import matplotlib.pyplot as plt\n",
        "import scipy\n",
        "from PIL import Image\n",
        "from scipy import ndimage\n",
        "from lr_utils import load_dataset\n",
        "\n",
        "from pandas import read_hdf\n",
        "# from dnn_app_utils_v3 import *\n",
        "\n",
        "%matplotlib inline\n",
        "plt.rcParams['figure.figsize'] = (5.0, 4.0) # set default size of plots\n",
        "plt.rcParams['image.interpolation'] = 'nearest'\n",
        "plt.rcParams['image.cmap'] = 'gray'\n",
        "\n",
        "%load_ext autoreload\n",
        "%autoreload 2\n",
        "\n",
        "np.random.seed(1)\n",
        "\n",
        "print(\"Everything ok so far. This is encouraging.\")"
      ],
      "execution_count": 1,
      "outputs": [
        {
          "output_type": "stream",
          "text": [
            "Everything ok so far. This is encouraging.\n"
          ],
          "name": "stdout"
        }
      ]
    },
    {
      "cell_type": "markdown",
      "metadata": {
        "id": "_TP8BCusYL6A",
        "colab_type": "text"
      },
      "source": [
        "Now load data from Github. Because I have it there. Needs to be public."
      ]
    },
    {
      "cell_type": "code",
      "metadata": {
        "id": "WXivHfIUYQ7W",
        "colab_type": "code",
        "colab": {}
      },
      "source": [
        "# ! git clone https://github.com/DrAlexSanz/Data-Week-1-DNN.git\n",
        "  \n",
        "#from lr_utils import load_dataset"
      ],
      "execution_count": 0,
      "outputs": []
    },
    {
      "cell_type": "markdown",
      "metadata": {
        "id": "63Gc2ROW8pQm",
        "colab_type": "text"
      },
      "source": [
        "If this reading doesn't work, restart the run environment. Why? Because then it works."
      ]
    },
    {
      "cell_type": "code",
      "metadata": {
        "id": "4IeaJ-nIu1Ab",
        "colab_type": "code",
        "colab": {}
      },
      "source": [
        "\n",
        "with h5py.File(\"train_catvnoncat.h5\") as train:\n",
        "  train_x = np.array(train[\"train_set_x\"][:]) # your train set features\n",
        "  train_y = np.array(train[\"train_set_y\"][:]) # your train set labels\n",
        "\n",
        "#print(train_set_x_orig)\n",
        "\n",
        "with h5py.File(\"test_catvnoncat.h5\") as test:\n",
        "  test_x = np.array(test[\"test_set_x\"][:]) # your train set features\n",
        "  test_y = np.array(test[\"test_set_y\"][:]) # your train set labels\n",
        "  classes = np.array(test[\"list_classes\"][:]) # the list of classes\n",
        "\n",
        "#print(test_x) #Prints to check\n",
        "\n",
        "\n"
      ],
      "execution_count": 0,
      "outputs": []
    },
    {
      "cell_type": "markdown",
      "metadata": {
        "id": "vWn39HtXjJK4",
        "colab_type": "text"
      },
      "source": [
        "Ok now I have everything read, I´m going to check if the pictures are shown ok with imshow."
      ]
    },
    {
      "cell_type": "code",
      "metadata": {
        "id": "JSMh54VWjRbu",
        "colab_type": "code",
        "colab": {
          "base_uri": "https://localhost:8080/",
          "height": 286
        },
        "outputId": "78b7f220-3068-497c-dbcd-77a8d8087c19"
      },
      "source": [
        "index = 6\n",
        "\n",
        "plt.imshow(test_x[index]) #This only shows the picture\n",
        "\n",
        "print(\"The \"+str(index)+\"th picture shows a \"+classes[np.squeeze(test_y[index])].decode(\"utf-8\"))"
      ],
      "execution_count": 4,
      "outputs": [
        {
          "output_type": "stream",
          "text": [
            "The 6th picture shows a cat\n"
          ],
          "name": "stdout"
        },
        {
          "output_type": "display_data",
          "data": {
            "image/png": "[encoded data removed]",
            "text/plain": [
              "<Figure size 360x288 with 1 Axes>"
            ]
          },
          "metadata": {
            "tags": []
          }
        }
      ]
    },
    {
      "cell_type": "markdown",
      "metadata": {
        "id": "oGQK05BRp_zD",
        "colab_type": "text"
      },
      "source": [
        "Now to see the structure of the data I use .shape()"
      ]
    },
    {
      "cell_type": "code",
      "metadata": {
        "id": "X0nDJTjkqDse",
        "colab_type": "code",
        "colab": {
          "base_uri": "https://localhost:8080/",
          "height": 51
        },
        "outputId": "d6199f19-2ea9-4fc5-ef05-120f65813b3c"
      },
      "source": [
        "print(\"The shape of the train dataset is: \", train_x.shape)\n",
        "print(\"The shape of the test dataset is: \", test_x.shape)"
      ],
      "execution_count": 5,
      "outputs": [
        {
          "output_type": "stream",
          "text": [
            "The shape of the train dataset is:  (209, 64, 64, 3)\n",
            "The shape of the test dataset is:  (50, 64, 64, 3)\n"
          ],
          "name": "stdout"
        }
      ]
    },
    {
      "cell_type": "markdown",
      "metadata": {
        "id": "YJplHAUQqlwX",
        "colab_type": "text"
      },
      "source": [
        "This is read: The train dataset is 209 images, 64x64x3 pixels with 3 being the RGB colours. For the test, it's only 50 images. Reshaping it to a flat array (n,1) will give a (64x64x3,1) array."
      ]
    },
    {
      "cell_type": "code",
      "metadata": {
        "id": "xMbO9kaarPh_",
        "colab_type": "code",
        "colab": {
          "base_uri": "https://localhost:8080/",
          "height": 51
        },
        "outputId": "e7ac07ef-9676-4592-ae11-da0ddadf3012"
      },
      "source": [
        "train_x = train_x.reshape(train_x.shape[0],-1).T\n",
        "test_x = test_x.reshape(test_x.shape[0],-1).T\n",
        "\n",
        "print(\"The shape of the train dataset is: \", train_x.shape)\n",
        "print(\"The shape of the test dataset is: \", test_x.shape)"
      ],
      "execution_count": 6,
      "outputs": [
        {
          "output_type": "stream",
          "text": [
            "The shape of the train dataset is:  (12288, 209)\n",
            "The shape of the test dataset is:  (12288, 50)\n"
          ],
          "name": "stdout"
        }
      ]
    },
    {
      "cell_type": "markdown",
      "metadata": {
        "id": "u05G1R7-rng7",
        "colab_type": "text"
      },
      "source": [
        "And this is read: the dataset has 209 (50) columns (vectors), that are 12288 pixels long. Don't forget the .T.\n",
        "Besides, the y's need to be stacked horizontally also. One after the other in a row to be consistent with the previous cell formulation."
      ]
    },
    {
      "cell_type": "code",
      "metadata": {
        "id": "ZB0JPCAhsBtY",
        "colab_type": "code",
        "colab": {
          "base_uri": "https://localhost:8080/",
          "height": 51
        },
        "outputId": "50a76bf2-2df4-4812-829f-126569f50dec"
      },
      "source": [
        "train_y = train_y.reshape(train_y.shape[0],-1).T\n",
        "test_y = test_y.reshape(test_y.shape[0],-1).T\n",
        "\n",
        "print(\"The shape of the train dataset is: \", train_y.shape)\n",
        "print(\"The shape of the test dataset is: \", test_y.shape)"
      ],
      "execution_count": 7,
      "outputs": [
        {
          "output_type": "stream",
          "text": [
            "The shape of the train dataset is:  (1, 209)\n",
            "The shape of the test dataset is:  (1, 50)\n"
          ],
          "name": "stdout"
        }
      ]
    }
  ]
}