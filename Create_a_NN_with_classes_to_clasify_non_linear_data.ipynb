{
  "nbformat": 4,
  "nbformat_minor": 0,
  "metadata": {
    "colab": {
      "name": "Create a NN with classes to clasify non linear data",
      "version": "0.3.2",
      "provenance": [],
      "collapsed_sections": [],
      "include_colab_link": true
    },
    "kernelspec": {
      "name": "python3",
      "display_name": "Python 3"
    }
  },
  "cells": [
    {
      "cell_type": "markdown",
      "metadata": {
        "id": "view-in-github",
        "colab_type": "text"
      },
      "source": [
        "<a href=\"https://colab.research.google.com/github/DrAlexSanz/Data-Week-1-DNN/blob/master/Create_a_NN_with_classes_to_clasify_non_linear_data.ipynb\" target=\"_parent\"><img src=\"https://colab.research.google.com/assets/colab-badge.svg\" alt=\"Open In Colab\"/></a>"
      ]
    },
    {
      "cell_type": "code",
      "metadata": {
        "id": "I0vIO8GoXHSv",
        "colab_type": "code",
        "outputId": "f6d60aed-3112-4a99-85d4-d0dd475b21a1",
        "colab": {
          "base_uri": "https://localhost:8080/",
          "height": 70
        }
      },
      "source": [
        "import time\n",
        "import numpy as np\n",
        "import h5py\n",
        "import matplotlib.pyplot as plt\n",
        "import scipy\n",
        "from PIL import Image\n",
        "from scipy import ndimage\n",
        "from pandas import read_hdf\n",
        "import sklearn\n",
        "import sklearn.datasets\n",
        "import sklearn.linear_model\n",
        "# from dnn_app_utils_v3 import *\n",
        "\n",
        "%matplotlib inline\n",
        "plt.rcParams['figure.figsize'] = (5.0, 4.0) # set default size of plots\n",
        "plt.rcParams['image.interpolation'] = 'nearest'\n",
        "plt.rcParams['image.cmap'] = 'gray'\n",
        "\n",
        "%load_ext autoreload\n",
        "%autoreload 2\n",
        "\n",
        "np.random.seed(1)\n",
        "\n",
        "print(\"Everything ok so far. This is encouraging.\")"
      ],
      "execution_count": 68,
      "outputs": [
        {
          "output_type": "stream",
          "text": [
            "The autoreload extension is already loaded. To reload it, use:\n",
            "  %reload_ext autoreload\n",
            "Everything ok so far. This is encouraging.\n"
          ],
          "name": "stdout"
        }
      ]
    },
    {
      "cell_type": "markdown",
      "metadata": {
        "id": "_TP8BCusYL6A",
        "colab_type": "text"
      },
      "source": [
        "Now create dataset."
      ]
    },
    {
      "cell_type": "code",
      "metadata": {
        "id": "WXivHfIUYQ7W",
        "colab_type": "code",
        "colab": {}
      },
      "source": [
        "np.random.seed(1)\n",
        "m = 400 # number of examples\n",
        "N = int(m/2) # number of points per class\n",
        "D = 2 # dimensionality\n",
        "X = np.zeros((m,D)) # data matrix where each row is a single example\n",
        "Y = np.zeros((m,1), dtype='uint8') # labels vector (0 for red, 1 for blue)\n",
        "a = 4 # maximum ray of the flower\n",
        "\n",
        "for j in range(2):\n",
        "    ix = range(N*j,N*(j+1))\n",
        "    t = np.linspace(j*3.12,(j+1)*3.12,N) + np.random.randn(N)*0.2 # theta\n",
        "    r = a*np.sin(4*t) + np.random.randn(N)*0.2 # radius\n",
        "    X[ix] = np.c_[r*np.sin(t), r*np.cos(t)]\n",
        "    Y[ix] = j\n",
        "        \n",
        "# X = X.T\n",
        "# Y = Y.T"
      ],
      "execution_count": 0,
      "outputs": []
    },
    {
      "cell_type": "markdown",
      "metadata": {
        "id": "lc0ErZRMw6Sy",
        "colab_type": "text"
      },
      "source": [
        "Now plot this to check that I created the dataset properly."
      ]
    },
    {
      "cell_type": "code",
      "metadata": {
        "id": "2ZSEh1eUw-Kv",
        "colab_type": "code",
        "colab": {
          "base_uri": "https://localhost:8080/",
          "height": 286
        },
        "outputId": "aa0dc1eb-cf57-4cf9-c6b7-78b9b690c323"
      },
      "source": [
        "plt.scatter(X[:,0], X[:,1], c = Y.ravel(), s = 40, cmap = plt.cm.autumn) #ravel!!!"
      ],
      "execution_count": 70,
      "outputs": [
        {
          "output_type": "execute_result",
          "data": {
            "text/plain": [
              "<matplotlib.collections.PathCollection at 0x7fab9f4ea8d0>"
            ]
          },
          "metadata": {
            "tags": []
          },
          "execution_count": 70
        },
        {
          "output_type": "display_data",
          "data": {
            "image/png": "[encoded data removed]",
            "text/plain": [
              "<Figure size 360x288 with 1 Axes>"
            ]
          },
          "metadata": {
            "tags": []
          }
        }
      ]
    },
    {
      "cell_type": "markdown",
      "metadata": {
        "id": "j5X8IEYIz2yU",
        "colab_type": "text"
      },
      "source": [
        "It works, don't forget the .ravel() for c in the scatter. Also, the colors are a bit ugly, but why not?"
      ]
    },
    {
      "cell_type": "markdown",
      "metadata": {
        "id": "VfP-HBY91ZEv",
        "colab_type": "text"
      },
      "source": [
        "Now I'll do a simple logistic regression to try to classify. It's not linearly separable, but let's see."
      ]
    },
    {
      "cell_type": "code",
      "metadata": {
        "id": "MKWdArXoww2q",
        "colab_type": "code",
        "colab": {
          "base_uri": "https://localhost:8080/",
          "height": 161
        },
        "outputId": "1a2f1ec3-7f99-4f4e-8b31-9f6f818afa74"
      },
      "source": [
        "logreg = sklearn.linear_model.LogisticRegressionCV()\n",
        "logreg.fit(X, Y.ravel())"
      ],
      "execution_count": 71,
      "outputs": [
        {
          "output_type": "stream",
          "text": [
            "/usr/local/lib/python3.6/dist-packages/sklearn/model_selection/_split.py:1978: FutureWarning: The default value of cv will change from 3 to 5 in version 0.22. Specify it explicitly to silence this warning.\n",
            "  warnings.warn(CV_WARNING, FutureWarning)\n"
          ],
          "name": "stderr"
        },
        {
          "output_type": "execute_result",
          "data": {
            "text/plain": [
              "LogisticRegressionCV(Cs=10, class_weight=None, cv='warn', dual=False,\n",
              "                     fit_intercept=True, intercept_scaling=1.0, l1_ratios=None,\n",
              "                     max_iter=100, multi_class='warn', n_jobs=None,\n",
              "                     penalty='l2', random_state=None, refit=True, scoring=None,\n",
              "                     solver='lbfgs', tol=0.0001, verbose=0)"
            ]
          },
          "metadata": {
            "tags": []
          },
          "execution_count": 71
        }
      ]
    },
    {
      "cell_type": "markdown",
      "metadata": {
        "id": "pTaM6CIm1hRB",
        "colab_type": "text"
      },
      "source": [
        "To plot the boundary I need to rescue my old meshgrid code."
      ]
    },
    {
      "cell_type": "code",
      "metadata": {
        "id": "eNruiPRQ3E47",
        "colab_type": "code",
        "colab": {
          "base_uri": "https://localhost:8080/",
          "height": 312
        },
        "outputId": "82306b78-efe6-4cec-8da8-3246e95a6e5b"
      },
      "source": [
        "# Set min and max values and give it some padding\n",
        "\n",
        "x_min, x_max = -5, 5\n",
        "y_min, y_max = -5, 5\n",
        "\n",
        "h = 0.01\n",
        "# Generate a grid of points with distance h between them\n",
        "xx, yy = np.meshgrid(np.arange(x_min, x_max, h), np.arange(y_min, y_max, h))\n",
        "# Predict the function value for the whole grid\n",
        "Z = logreg.predict(np.c_[xx.ravel(), yy.ravel()])\n",
        "Z = Z.reshape(xx.shape)\n",
        "# Plot the contour and training examples\n",
        "plt.contourf(xx, yy, Z, cmap=plt.cm.Spectral)\n",
        "plt.ylabel('t')\n",
        "plt.xlabel('r')\n",
        "plt.scatter(X[:, 0], X[:, 1], c = Y.ravel(), s = 40, cmap = plt.cm.autumn)\n",
        "\n",
        "\n",
        "\n",
        "# plot_decision_boundary = (lambda x: logreg.predict(x), X, Y.ravel())\n",
        "plt.title(\"LogReg\")\n",
        "\n",
        "logreg_pred = logreg.predict(X)\n",
        "\n",
        "#Print the accuracy, it's going to be a bit bad\n",
        "\n",
        "print (\"Accuracy of logistic regression: %d \" % float((np.dot(Y.ravel(),logreg_pred) + np.dot(1-Y.ravel(),1-logreg_pred))/float(Y.ravel().size)*100) +'% ' + \"(percentage of correctly predicted points)\")"
      ],
      "execution_count": 72,
      "outputs": [
        {
          "output_type": "stream",
          "text": [
            "Accuracy of logistic regression: 47 % (percentage of correctly predicted points)\n"
          ],
          "name": "stdout"
        },
        {
          "output_type": "display_data",
          "data": {
            "image/png": "[encoded data removed]",
            "text/plain": [
              "<Figure size 360x288 with 1 Axes>"
            ]
          },
          "metadata": {
            "tags": []
          }
        }
      ]
    },
    {
      "cell_type": "markdown",
      "metadata": {
        "id": "gVcpMLYG8f8x",
        "colab_type": "text"
      },
      "source": [
        "Now it's plotted. With ugly colors, I agree, but I can clearly see the linear boundary.\n",
        "\n",
        "Now I need to create my NN to improve the log reg classifier. I have to define activation functions and derivatives to do the forward propagation and backpropagation and also the loss and cost functions.\n",
        "\n",
        "My building block is a LAYER with n neurons. I will stack several layers with different neurons each using a list called topology. [a, b, c,...] a, b and c are the number of neurons in each layer.\n",
        "\n",
        "I will implement the neural layer as a class. It's simple. I can use a funcion but it allows me more flexibility and I don't usually play with classes, only functions. For example, the activation function is easy to implement for each layer."
      ]
    },
    {
      "cell_type": "code",
      "metadata": {
        "id": "AaaYSqI85jPR",
        "colab_type": "code",
        "colab": {}
      },
      "source": [
        "#First I define the activation function. It's easier for me to see. First line of the lambda, I define the function, second line is the derivative. It indexes at 0!\n",
        "\n",
        "sigm = (lambda x: 1/(1+np.exp(-x)), #Original sigmoid\n",
        "        lambda x: np.exp(-x)/(1+np.exp(-x))**2) # Derivative. NOTICE THE ** INSTEAD OF ^!!!! THE ^ IS BITWISE!!!\n",
        "\n",
        "tanh = (lambda x: np.tanh(x), #Original sigmoid\n",
        "        lambda x: 1-(np.tanh(x))**2) # Derivative can be expressed as a function of tanh. I could probably store the value in cache, but for these points I don't care.\n",
        "\n",
        "relu = (lambda x: np.maximum(0, x), # Relu def\n",
        "        lambda x: np.heaviside(x, 0.5)) # Derivative is a step!"
      ],
      "execution_count": 0,
      "outputs": []
    },
    {
      "cell_type": "code",
      "metadata": {
        "id": "A0KkjstI2ULb",
        "colab_type": "code",
        "colab": {}
      },
      "source": [
        "class neural_layer():\n",
        "    def __init__(self, n_conn, n_neur, f_act):\n",
        "        self.f_act = f_act #No question here, this is the activation function\n",
        "        self.W = np.random.rand(n_conn, n_neur)*2-1 #Centre at 0. A number with average 0.5, I multiply by 2 and remove 1.\n",
        "        # For the weights, I have a \"Transposed\" network with respect to the usual representation of a NN.\n",
        "        # I input first the number of neurons in the current layer and then the number of connections for each neuron (the number of neurons in the next layer)\n",
        "        # Then I transpose it.\n",
        "       \n",
        "        self.b = np.random.rand(1,n_neur) #Same as before, the bias term is \"Transposed\" compared to the usual representation.\n",
        "        \n",
        "        \n",
        "        "
      ],
      "execution_count": 0,
      "outputs": []
    },
    {
      "cell_type": "markdown",
      "metadata": {
        "id": "5EqT1wS6KN3-",
        "colab_type": "text"
      },
      "source": [
        "Now I have to do the function to create the NN by stacking layers."
      ]
    },
    {
      "cell_type": "code",
      "metadata": {
        "id": "vUBT1TqQL_OM",
        "colab_type": "code",
        "colab": {}
      },
      "source": [
        "#Remember, topology = [a, b, c...] is the list of the number of neurons in each layer.\n",
        "\n",
        "\n",
        "# So the loop is very simple. First create a layer based on this layer and the next one (n_conn in the neural_layer class). Then append the object to the list.\n",
        "\n",
        "def create_nn(topology, f_act):\n",
        "    nn = [] #Empty list to append layers later\n",
        "    for l, layer in enumerate(topology[:-1]): #-1!! Ignore the last one or it overflows. I am already taking the last element of topology in iteration l-1.\n",
        "        nn.append(neural_layer(topology[l],topology[l+1],f_act))\n",
        "    \n",
        "    return nn\n",
        "  \n",
        "  \n",
        "  "
      ],
      "execution_count": 0,
      "outputs": []
    },
    {
      "cell_type": "markdown",
      "metadata": {
        "id": "lMHtcbeqNY-k",
        "colab_type": "text"
      },
      "source": [
        "Now the cost function. MSE is very easy to implement. I can use other functions, but this one is easy."
      ]
    },
    {
      "cell_type": "code",
      "metadata": {
        "id": "i7SSTIRANjxF",
        "colab_type": "code",
        "colab": {}
      },
      "source": [
        "l2_cost = (lambda Y_pred, Y_train: 0.5*np.mean((Y_pred-Y_train)**2),\n",
        "          lambda Y_pred, Y_train: (Y_pred-Y_train)) #Same idea as in the activation function, second one is the derivative.\n"
      ],
      "execution_count": 0,
      "outputs": []
    },
    {
      "cell_type": "markdown",
      "metadata": {
        "id": "kpRaXWS2OD66",
        "colab_type": "text"
      },
      "source": [
        "Now implement the training funciton"
      ]
    },
    {
      "cell_type": "code",
      "metadata": {
        "id": "Dytq1ZY0PvKz",
        "colab_type": "code",
        "colab": {}
      },
      "source": [
        "def Train(neural_net, X, Y, l2_cost, lr, train_run = True):\n",
        "    \n",
        "    out = [(None, X)] # This is the output that I will have\n",
        "    \n",
        "    # out = [(z0, a0), (z1, a1)...]\n",
        "    \n",
        "    # Forward pass\n",
        "    \n",
        "    for l, layer in enumerate(neural_net):\n",
        "        \n",
        "        z = out[-1][1] @ neural_net[l].W + neural_net[l].b # Remember, @ is matmul\n",
        "        a = neural_net[l].f_act[0](z)\n",
        "        \n",
        "        out.append((z, a))\n",
        "        \n",
        "    \n",
        "    \n",
        "    if train_run:\n",
        "        \n",
        "        deltas = []\n",
        "        \n",
        "        #reversed is a backwards enumerate\n",
        "        \n",
        "        for l in reversed(range(0, len(neural_net))):\n",
        "            \n",
        "            z = out[l+1][0]\n",
        "            a = out[l+1][1]\n",
        "            \n",
        "            if l == len(neural_net)-1: # Last layer\n",
        "              \n",
        "                # insert is append but it inserts at 0 index and pushes the rest to the end. REVERSED\n",
        "                \n",
        "                deltas.insert(0, l2_cost[1](a, Y) * neural_net[l].f_act[1](a))\n",
        "                \n",
        "            else:\n",
        "                \n",
        "                deltas.insert(0, deltas[0] @ _W.T * neural_net[l].f_act[1](a))\n",
        "            _W = neural_net[l].W #At the first pass of the for I compute this, I can't put it before the if.\n",
        "            \n",
        "            \n",
        "            #Gradient descent.\n",
        "            \n",
        "            neural_net[l].b = neural_net[l].b - lr * np.mean(deltas[0], axis = 0, keepdims = True) #keepdims avoid a conversion to a series. I work with np arrays.\n",
        "            neural_net[l].W = neural_net[l].W - lr * out[l][1].T @ deltas[0]\n",
        "            \n",
        "     \n",
        "    return out[-1][1]\n",
        "                \n",
        "                "
      ],
      "execution_count": 0,
      "outputs": []
    },
    {
      "cell_type": "markdown",
      "metadata": {
        "id": "6hVQT4_eUAjM",
        "colab_type": "text"
      },
      "source": [
        "Now do the cycle"
      ]
    },
    {
      "cell_type": "code",
      "metadata": {
        "id": "bRrPISfsUDCJ",
        "colab_type": "code",
        "colab": {
          "base_uri": "https://localhost:8080/",
          "height": 286
        },
        "outputId": "14d3d982-16f1-422c-feee-441ea5cc50b2"
      },
      "source": [
        "p = 2 # Num classes\n",
        "\n",
        "topology = [p, 2, 1] #Why not?\n",
        "\n",
        "learn = 1e-3\n",
        "\n",
        "neural_n = create_nn(topology, sigm)\n",
        "\n",
        "loss = []\n",
        "\n",
        "\n",
        "for i in range(500):\n",
        "\n",
        "    Y_hat = Train(neural_n, X, Y, l2_cost, learn)\n",
        "    \n",
        "    \n",
        "    if i % 50:\n",
        "        \n",
        "        loss.append(l2_cost[0](Y, Y_hat))\n",
        "        \n",
        "\n",
        "        \n",
        "        \n",
        "        \n",
        "plt.plot(range(len(loss)), loss)\n"
      ],
      "execution_count": 82,
      "outputs": [
        {
          "output_type": "execute_result",
          "data": {
            "text/plain": [
              "[<matplotlib.lines.Line2D at 0x7fab9f594978>]"
            ]
          },
          "metadata": {
            "tags": []
          },
          "execution_count": 82
        },
        {
          "output_type": "display_data",
          "data": {
            "image/png": "[encoded data removed]",
            "text/plain": [
              "<Figure size 360x288 with 1 Axes>"
            ]
          },
          "metadata": {
            "tags": []
          }
        }
      ]
    }
  ]
}